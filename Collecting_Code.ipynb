{
  "nbformat": 4,
  "nbformat_minor": 0,
  "metadata": {
    "colab": {
      "name": "Collecting Code.ipynb",
      "provenance": [],
      "collapsed_sections": [],
      "mount_file_id": "1ZJWclz3ydFlI5_MglgXmPsijr90Gl8q6",
      "authorship_tag": "ABX9TyNEfMHYgQzqGDErxELRwlOA",
      "include_colab_link": true
    },
    "kernelspec": {
      "display_name": "Python 3",
      "name": "python3"
    },
    "language_info": {
      "name": "python"
    }
  },
  "cells": [
    {
      "cell_type": "markdown",
      "metadata": {
        "id": "view-in-github",
        "colab_type": "text"
      },
      "source": [
        "<a href=\"https://colab.research.google.com/github/Jainlo/faseeh/blob/main/Collecting_Code.ipynb\" target=\"_parent\"><img src=\"https://colab.research.google.com/assets/colab-badge.svg\" alt=\"Open In Colab\"/></a>"
      ]
    },
    {
      "cell_type": "code",
      "metadata": {
        "colab": {
          "base_uri": "https://localhost:8080/"
        },
        "id": "8mcOhC1WYO2q",
        "outputId": "efd1e8d3-f136-4801-c857-e92ac90744a6"
      },
      "source": [
        "import os\n",
        "from google.colab import drive\n",
        "drive.mount('/content/drive/') "
      ],
      "execution_count": null,
      "outputs": [
        {
          "output_type": "stream",
          "text": [
            "Drive already mounted at /content/drive/; to attempt to forcibly remount, call drive.mount(\"/content/drive/\", force_remount=True).\n"
          ],
          "name": "stdout"
        }
      ]
    },
    {
      "cell_type": "code",
      "metadata": {
        "id": "AdtfV98LYVGW"
      },
      "source": [
        "class Aljazirah:\n",
        "  #https://www.al-jazirah.com/1999/19990101/   per day pattern\n",
        "\n",
        "\n",
        "  # -r : recursive\n",
        "  # -np: Do not ever ascend to the parent directory when retrieving recursively.\n",
        "  # -A : get only *.html files (for this case) eg. -A \"*.html\"\n",
        "  # -R : reject  -R \"*.gz, *.tar\"\n",
        "\n",
        "  baseDir = \"/content/drive/MyDrive/newVersion/corpus/Aljazirah/\"\n",
        "  baseCMD = \"wget -r -np -R '*.js,*.css,*.ico,*.txt,*.gif,*.jpg,*.jpeg,*.png,*.mp3,*.pdf,*.tgz,*.flv,*.avi,*.mpeg,*.iso' --ignore-tags=img,link,script https://www.al-jazirah.com/\"\n",
        "  prefix  = 'J'\n",
        "\n",
        "  def __init__(self):\n",
        "    print(\"Welcom to Aljazirah newspaper Extractor\")\n",
        "\n",
        "  # Download content of complete one month in a given year\n",
        "  # Advice: download 1000 pagessingle month in a single batch\n",
        "\n",
        "  def download(self, year, month):\n",
        "    subDir = self.prefix + str(year).zfill(4) + str(month).zfill(2)\n",
        "    destDir = self.baseDir + subDir\n",
        "    if not os.path.exists(destDir):\n",
        "      os.makedirs(destDir)\n",
        "\n",
        "    for i in range(31):\n",
        "      day = i + 1\n",
        "      cmd = self.baseCMD + str(year).zfill(4) + '/' + str(year).zfill(4) + str(month).zfill(2) + str(day).zfill(2) + '/' ' -P ' + destDir\n",
        "      os.system(cmd)\n",
        "\n",
        "  def parse(self, dir):\n",
        "    print(\"to be implemented\")"
      ],
      "execution_count": null,
      "outputs": []
    },
    {
      "cell_type": "code",
      "metadata": {
        "id": "8A4hIxXG0LGb"
      },
      "source": [
        "class Alriyadh:\n",
        "  baseDir = \"/content/drive/MyDrive/newVersion/corpus/Alriyadh/\"\n",
        "  baseCMD = 'wget --no-check-certificate www.alriyadh.com/' \n",
        "  prefix  = 'R'\n",
        "\n",
        "  def __init__(self):\n",
        "    print(\"Welcom to Alriyadh newspaper Extractor\")\n",
        "\n",
        "  # Download range of pages (count) starting fron 'start'\n",
        "  # Advice: download 1000 pages in a single batch\n",
        "\n",
        "  def download(self, start, count):\n",
        "    subDir = self.prefix + str(start).zfill(10)\n",
        "    destDir = self.baseDir + subDir\n",
        "    if not os.path.exists(destDir):\n",
        "      os.makedirs(destDir)\n",
        "\n",
        "    for i in range(count):\n",
        "      pid = start + i\n",
        "      cmd = self.baseCMD + str(pid) + ' -P ' + destDir\n",
        "      os.system(cmd)\n",
        "\n",
        "  def parse(self, dir):\n",
        "    print(\"to be implemented\")"
      ],
      "execution_count": null,
      "outputs": []
    },
    {
      "cell_type": "code",
      "metadata": {
        "id": "TzGEVjckmXoZ"
      },
      "source": [
        "class Alyaum:\n",
        "  baseDir = \"/content/drive/MyDrive/newVersion/corpus/Alyaum/\"\n",
        "  baseCMD = 'wget --no-check-certificate www.alyaum.com/articles/' \n",
        "  prefix  = 'Y'\n",
        "\n",
        "  def __init__(self):\n",
        "    print(\"Welcom to Alyaum newspaper Extractor\")\n",
        "\n",
        "  # Download range of pages (count) starting fron 'start'\n",
        "  # Advice: download 1000 pages in a single batch\n",
        "  def download(self, start, count):\n",
        "    subDir = self.prefix + str(start).zfill(10)\n",
        "    destDir = self.baseDir + subDir\n",
        "    if not os.path.exists(destDir):\n",
        "      os.makedirs(destDir)\n",
        "\n",
        "    for i in range(count):\n",
        "      pid = start + i\n",
        "      cmd = self.baseCMD + str(pid) + ' -P ' + destDir\n",
        "      os.system(cmd)\n",
        "\n",
        "  def parse(self, dir):\n",
        "    print(\"to be implemented\")"
      ],
      "execution_count": null,
      "outputs": []
    },
    {
      "cell_type": "code",
      "metadata": {
        "colab": {
          "base_uri": "https://localhost:8080/"
        },
        "id": "kmCpt_CB4yJJ",
        "outputId": "4fc52329-f422-452d-e120-8f360a2fd578"
      },
      "source": [
        "def main():\n",
        "    print(\"Hello Corpus !!!\")\n",
        "    print(\"Summer Coop 2021\")\n",
        "\n",
        "#   1-35k\n",
        "    alriyadh = Alriyadh()\n",
        "    alriyadh.download(35000, 1000)\n",
        "#   1-35k\n",
        "    alyaum = Alyaum()\n",
        "    alyaum.download(35000, 1000)\n",
        " \n",
        "#   2010 - 2011 - 2018(5) - 2019 - 2020 - 2021(7)\n",
        "    aljazirah = Aljazirah()\n",
        "    aljazirah.download(2010, 6)\n",
        "\n",
        "if __name__ == \"__main__\":\n",
        "    main()"
      ],
      "execution_count": null,
      "outputs": [
        {
          "output_type": "stream",
          "text": [
            "Hello Corpus !!!\n",
            "Summer Coop 2021\n",
            "Welcom to Aljazirah newspaper Extractor\n"
          ],
          "name": "stdout"
        }
      ]
    }
  ]
}